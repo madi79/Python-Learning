{
 "cells": [
  {
   "cell_type": "code",
   "execution_count": 5,
   "outputs": [
    {
     "name": "stdout",
     "output_type": "stream",
     "text": [
      "QYTANG'day2014-9-28\n"
     ]
    }
   ],
   "source": [
    "a = 'qytang'\n",
    "b = 'day'\n",
    "c = '2014-9-28'\n",
    "print(str.upper(a) +\"\\'\"+str(b)+str(c))"
   ],
   "metadata": {
    "collapsed": false,
    "pycharm": {
     "name": "#%%\n"
    }
   }
  },
  {
   "cell_type": "code",
   "execution_count": 8,
   "outputs": [
    {
     "name": "stdout",
     "output_type": "stream",
     "text": [
      "Your name is %s , Your age is %d\n"
     ]
    }
   ],
   "source": [
    "import re\n",
    "name = 'Bob'\n",
    "age = 18\n",
    "print((\"Your name is {} , Your age is {}\").format(name,age))"
   ],
   "metadata": {
    "collapsed": false,
    "pycharm": {
     "name": "#%%\n"
    }
   }
  },
  {
   "cell_type": "code",
   "execution_count": 36,
   "outputs": [
    {
     "name": "stdout",
     "output_type": "stream",
     "text": [
      "None\n"
     ]
    }
   ],
   "source": [
    "import re\n",
    "str1 = 'Portchannel1.189     192.168.189.254    YES    CONFIG    up'\n",
    "r1 = re.match('^[A-Z][\\S]×\\s$',str1)\n",
    "print(r1)\n"
   ],
   "metadata": {
    "collapsed": false,
    "pycharm": {
     "name": "#%%\n"
    }
   }
  },
  {
   "cell_type": "code",
   "execution_count": 106,
   "outputs": [
    {
     "name": "stdout",
     "output_type": "stream",
     "text": [
      "Portchannel1.189\n",
      "['Portchannel1.189', '192.168.189.254', 'YES', 'CONFIG', 'up']\n",
      "['Portchannel1', '189', '192', '168', '189', '254', 'YES', 'CONFIG', 'up']\n"
     ]
    }
   ],
   "source": [
    "import re\n",
    "str1 = 'Portchannel1.189     192.168.189.254    YES    CONFIG    up'\n",
    "s1 = re.match('[\\S]*',str1).group()\n",
    "s2 = re.findall('\\S+',str1)\n",
    "s3 = re.split('\\W+',str1)\n",
    "print(s1)\n",
    "print(s2)\n",
    "print(s3)"
   ],
   "metadata": {
    "collapsed": false,
    "pycharm": {
     "name": "#%%\n"
    }
   }
  },
  {
   "cell_type": "code",
   "execution_count": 14,
   "outputs": [
    {
     "name": "stdout",
     "output_type": "stream",
     "text": [
      "接口        :Portchannel1.189\n",
      "IP地址      :192.168.189.254\n",
      "状态        :up\n"
     ]
    }
   ],
   "source": [
    "import re\n",
    "str1 = 'Portchannel1.189     192.168.189.254    YES    CONFIG    up'\n",
    "s2 = re.findall('\\S+',str1)\n",
    "print('%-10s'% '接口'+r':'+s2[0])\n",
    "print('%-10s'%'IP地址'+r':'+s2[1])\n",
    "print('%-10s'%'状态'+r':'+s2[4])"
   ],
   "metadata": {
    "collapsed": false,
    "pycharm": {
     "name": "#%%\n"
    }
   }
  },
  {
   "cell_type": "code",
   "execution_count": 13,
   "outputs": [
    {
     "name": "stdout",
     "output_type": "stream",
     "text": [
      "172.16.66.166\n",
      "255.255.255.0\n",
      "172.16.66.255\n",
      "00:50:56:ab:59:bd\n"
     ]
    }
   ],
   "source": [
    "import re\n",
    "ifconfig_result = \"\"\" ens160: flags=4163<UP,BROADCAST,RUNNING,MULTICAST> mtu 1500\n",
    "              inet 172.16.66.166 netmask 255.255.255.0 broadcast 172.16.66.255\n",
    "              inet6 fe80::250:56ff:feab:59bd prefixlen 64 scopeid 0x20<link>\n",
    "              ether 00:50:56:ab:59:bd txqueuelen 1000 (Ethernet)\n",
    "              RX packets 174598769 bytes 1795658527217 (1.6 TiB)\n",
    "              RX errors 1 dropped 24662 overruns 0 frame 0\n",
    "              TX packets 51706604 bytes 41788673420 (38.9 GiB)\n",
    "              TX errors 0 dropped 0 overruns 0 carrier 0 collisions 0\n",
    "\"\"\"\n",
    "r1 = re.findall('\\S+',ifconfig_result)\n",
    "i= 0\n",
    "ip_addr = ''\n",
    "netmask = ''\n",
    "broadcast = ''\n",
    "mac = ''\n",
    "while (i<len(r1)):\n",
    "    if (r1[i]=='inet'):\n",
    "        ip_addr =r1[i+1]\n",
    "    if (r1[i]=='netmask'):\n",
    "        netmask = r1[i+1]\n",
    "    if (r1[i]=='broadcast'):\n",
    "        broadcast = r1[i+1]\n",
    "    if (r1[i]=='ether'):\n",
    "        mac = r1[i+1]\n",
    "    i+=1\n",
    "print(ip_addr)\n",
    "print(netmask)\n",
    "print(broadcast)\n",
    "print(mac)\n",
    "\n"
   ],
   "metadata": {
    "collapsed": false,
    "pycharm": {
     "name": "#%%\n"
    }
   }
  },
  {
   "cell_type": "code",
   "execution_count": 11,
   "outputs": [
    {
     "name": "stdout",
     "output_type": "stream",
     "text": [
      "确认是IP\n"
     ]
    }
   ],
   "source": [
    "import re\n",
    "str1 = \"266.268.192.1\"\n",
    "if re.match(r\"^(?:[0-9]{1,3}\\.){3}[0-9]{1,3}$\", str1):\n",
    "  print (\"确认是IP\")\n",
    "else:\n",
    "    print('这不是IP')\n",
    "\n"
   ],
   "metadata": {
    "collapsed": false,
    "pycharm": {
     "name": "#%%\n"
    }
   }
  },
  {
   "cell_type": "code",
   "execution_count": 13,
   "outputs": [
    {
     "name": "stdout",
     "output_type": "stream",
     "text": [
      "['ens160:', 'flags=4163<UP,BROADCAST,RUNNING,MULTICAST>', 'mtu', '1500', 'inet', '172.16.66.166', 'netmask', '255.255.255.0', 'broadcast', '172.16.66.255', 'inet6', 'fe80::250:56ff:feab:59bd', 'prefixlen', '64', 'scopeid', '0x20<link>', 'ether', '00:50:56:ab:59:bd', 'txqueuelen', '1000', '(Ethernet)', 'RX', 'packets', '174598769', 'bytes', '1795658527217', '(1.6', 'TiB)', 'RX', 'errors', '1', 'dropped', '24662', 'overruns', '0', 'frame', '0', 'TX', 'packets', '51706604', 'bytes', '41788673420', '(38.9', 'GiB)', 'TX', 'errors', '0', 'dropped', '0', 'overruns', '0', 'carrier', '0', 'collisions', '0']\n"
     ]
    }
   ],
   "source": [
    "import re\n",
    "ifconfig_result = \"\"\" ens160: flags=4163<UP,BROADCAST,RUNNING,MULTICAST> mtu 1500\n",
    "              inet 172.16.66.166 netmask 255.255.255.0 broadcast 172.16.66.255\n",
    "              inet6 fe80::250:56ff:feab:59bd prefixlen 64 scopeid 0x20<link>\n",
    "              ether 00:50:56:ab:59:bd txqueuelen 1000 (Ethernet)\n",
    "              RX packets 174598769 bytes 1795658527217 (1.6 TiB)\n",
    "              RX errors 1 dropped 24662 overruns 0 frame 0\n",
    "              TX packets 51706604 bytes 41788673420 (38.9 GiB)\n",
    "              TX errors 0 dropped 0 overruns 0 carrier 0 collisions 0\n",
    "\"\"\"\n",
    "r1 = re.findall('\\S+',ifconfig_result)"
   ],
   "metadata": {
    "collapsed": false,
    "pycharm": {
     "name": "#%%\n"
    }
   }
  },
  {
   "cell_type": "code",
   "execution_count": 12,
   "outputs": [
    {
     "name": "stdout",
     "output_type": "stream",
     "text": [
      "protocal             : TCP\n",
      "server               : server\n",
      "idle                 : 0小时01分钟09秒\n",
      "bytes                : 27575949\n",
      "flgs                 : UIO\n"
     ]
    }
   ],
   "source": [
    "import re\n",
    "result = 'TCP server 172.16.1.101:443 localserver 172.16.66.1:53710, idle 0:01:09, bytes 27575949, flags UIO'\n",
    "r1 = re.findall('\\S+',result)\n",
    "subr1 = re.sub(r'(\\d+):(\\d+):(\\d+)',r\"\\1小时\\2分钟\\3秒\",r1[6])\n",
    "print('%-20s'%'protocal',':',r1[0])\n",
    "print('%-20s'%'server',':',r1[1])\n",
    "print('%-20s'%'idle',':',subr1[:-1])\n",
    "print('%-20s'%'bytes',':',r1[8][:-1])\n",
    "print('%-20s'%'flgs',':',r1[10])"
   ],
   "metadata": {
    "collapsed": false,
    "pycharm": {
     "name": "#%%\n"
    }
   }
  },
  {
   "cell_type": "code",
   "execution_count": 16,
   "outputs": [
    {
     "name": "stdout",
     "output_type": "stream",
     "text": [
      "['172.16.66.166', '255.255.255.0', '172.16.66.255']\n"
     ]
    }
   ],
   "source": [
    "import re\n",
    "ifconfig_result = \"\"\" ens160: flags=4163<UP,BROADCAST,RUNNING,MULTICAST> mtu 1500\n",
    "              inet 172.16.66.166 netmask 255.255.255.0 broadcast 172.16.66.255\n",
    "              inet6 fe80::250:56ff:feab:59bd prefixlen 64 scopeid 0x20<link>\n",
    "              ether 00:50:56:ab:59:bd txqueuelen 1000 (Ethernet)\n",
    "              RX packets 174598769 bytes 1795658527217 (1.6 TiB)\n",
    "              RX errors 1 dropped 24662 overruns 0 frame 0\n",
    "              TX packets 51706604 bytes 41788673420 (38.9 GiB)\n",
    "              TX errors 0 dropped 0 overruns 0 carrier 0 collisions 0\n",
    "\"\"\"\n",
    "r1 = re.findall(r\"\\b(?:(?:25[0-5]|2[0-4][0-9]|[01]?[0-9][0-9]?)\\.){3}(?:25[0-5]|2[0-4][0-9]|[01]?[0-9][0-9]?)\\b\",ifconfig_result)\n",
    "print(r1)"
   ],
   "metadata": {
    "collapsed": false,
    "pycharm": {
     "name": "#%%\n"
    }
   }
  },
  {
   "cell_type": "code",
   "execution_count": 3,
   "outputs": [
    {
     "name": "stdout",
     "output_type": "stream",
     "text": [
      "\n",
      "正在 Ping 172.16.1.1 具有 32 字节的数据:\n",
      "请求超时。\n",
      "\n",
      "172.16.1.1 的 Ping 统计信息:\n",
      "    数据包: 已发送 = 1，已接收 = 0，丢失 = 1 (100% 丢失)，\n",
      "\n"
     ]
    }
   ],
   "source": [
    "import os\n",
    "import re\n",
    "ping_result=''\n",
    "icmp_result=''\n",
    "ping_result = os.popen('ping ' + ' 172.16.1.1 ' + ' -n 1').read()\n",
    "print(ping_result)"
   ],
   "metadata": {
    "collapsed": false,
    "pycharm": {
     "name": "#%%\n"
    }
   }
  },
  {
   "cell_type": "code",
   "execution_count": 11,
   "outputs": [
    {
     "name": "stdout",
     "output_type": "stream",
     "text": [
      "100\n"
     ]
    }
   ],
   "source": [
    "import re\n",
    "ping_result=\"\"\"正在 Ping 172.16.1.1 具有 32 字节的数据:\n",
    "请求超时。\n",
    "\n",
    "172.16.1.1 的 Ping 统计信息:\n",
    "    数据包: 已发送 = 1，已接收 = 0，丢失 = 1 (100% 丢失)，\"\"\"\n",
    "se1 = re.compile(r'[(](.*)[)]')\n",
    "icmp_result= re.search(r'[(](.*)[)]',ping_result).group(1)\n",
    "#icmp_1 = se1.search(ping_result)\n",
    "#print(icmp_result)\n",
    "#print(icmp_1)\n",
    "#result_tmp = icmp_1.group(1)\n",
    "print(re.sub(r'\\D','',icmp_result))\n",
    "#icmp_1 = icmp_result[0]\n",
    "#c1=re.match(r'\\d+',icmp_result)\n",
    "#print(c1)\n",
    "#print(re.findall(r'\\b(\\d+)\\b',icmp_result))"
   ],
   "metadata": {
    "collapsed": false,
    "pycharm": {
     "name": "#%%\n"
    }
   }
  },
  {
   "cell_type": "code",
   "execution_count": 15,
   "outputs": [
    {
     "name": "stdout",
     "output_type": "stream",
     "text": [
      "['00:50:56:ab:59:bd']\n"
     ]
    }
   ],
   "source": [
    "ifconfig_result = \"\"\" ens160: flags=4163<UP,BROADCAST,RUNNING,MULTICAST> mtu 1500\n",
    "              inet 172.16.66.166 netmask 255.255.255.0 broadcast 172.16.66.255\n",
    "              inet6 fe80::250:56ff:feab:59bd prefixlen 64 scopeid 0x20<link>\n",
    "              ether 00:50:56:ab:59:bd txqueuelen 1000 (Ethernet)\n",
    "              RX packets 174598769 bytes 1795658527217 (1.6 TiB)\n",
    "              RX errors 1 dropped 24662 overruns 0 frame 0\n",
    "              TX packets 51706604 bytes 41788673420 (38.9 GiB)\n",
    "              TX errors 0 dropped 0 overruns 0 carrier 0 collisions 0\n",
    "\"\"\"\n",
    "cx = re.findall(r'(?:\\w\\w\\:\\w\\w\\:\\w\\w\\:\\w\\w\\:\\w\\w\\:\\w\\w)',ifconfig_result)\n",
    "print(cx)"
   ],
   "metadata": {
    "collapsed": false,
    "pycharm": {
     "name": "#%%\n"
    }
   }
  },
  {
   "cell_type": "code",
   "execution_count": 72,
   "outputs": [
    {
     "name": "stdout",
     "output_type": "stream",
     "text": [
      "\n",
      "正在 Ping 172.16.1.1 具有 32 字节的数据:\n",
      "请求超时。\n",
      "\n",
      "172.16.1.1 的 Ping 统计信息:\n",
      "    数据包: 已发送 = 1，已接收 = 0，丢失 = 1 (100% 丢失)，\n",
      "\n",
      "None\n"
     ]
    }
   ],
   "source": [
    "import os\n",
    "import re\n",
    "ipv4_gw = '172.16.1.1'\n",
    "ping_result = os.popen('ping '+ ipv4_gw + ' -n 1').read()\n",
    "loss_result= re.search(r'[(](?:\\D)[)]',ping_result[0])\n",
    "#percent_result= re.sub(r'\\D','',loss_result)\n",
    "print(ping_result)\n",
    "print(loss_result)\n",
    "#print(percent_result)"
   ],
   "metadata": {
    "collapsed": false,
    "pycharm": {
     "name": "#%%\n"
    }
   }
  },
  {
   "cell_type": "code",
   "execution_count": 90,
   "outputs": [
    {
     "name": "stdout",
     "output_type": "stream",
     "text": [
      "100\n"
     ]
    }
   ],
   "source": [
    "import re\n",
    "td1 = \"\"\"正在 Ping 172.16.1.1 具有 32 字节的数据:\n",
    "请求超时。\n",
    "\n",
    "172.16.1.1 的 Ping 统计信息:\n",
    "    数据包: 已发送 = 1，已接收 = 0，丢失 = 1 (100% 丢失)\n",
    "\"\"\"\n",
    "def cat_result(str):\n",
    "    result =re.search(r'[(].*?[)]',str).gourp(0)\n",
    "    print(result)\n",
    "    return\n",
    "t1 = re.sub('\\D','',re.search(r'[(].*?[)]',td1).group(0))\n",
    "#cat_result(td1)\n",
    "#t1 = re.sub(r'\\D','',cat_result(td1))\n",
    "print(t1)"
   ],
   "metadata": {
    "collapsed": false,
    "pycharm": {
     "name": "#%%\n"
    }
   }
  },
  {
   "cell_type": "code",
   "execution_count": 225,
   "outputs": [
    {
     "name": "stdout",
     "output_type": "stream",
     "text": [
      "['0.0.0.0', '192.168.2.254', '0.0.0.0', 'UG', '100', '0', '0', 'ens160']\n"
     ]
    }
   ],
   "source": [
    "n1 = \"\"\"Kernel IP routing table\n",
    "Destination     Gateway         Genmask         Flags Metric Ref    Use Iface\n",
    "0.0.0.0         192.168.2.254   0.0.0.0         UG    100    0        0 ens160\n",
    "10.0.0.0        10.200.244.161  255.0.0.0       UG    101    0        0 ens192\n",
    "10.200.244.160  0.0.0.0         255.255.255.252 U     101    0        0 ens192\n",
    "192.168.2.0     0.0.0.0         255.255.255.0   U     100    0        0 ens160\n",
    "\"\"\"\n",
    "#rn1 = re.findall(r\"\\b(?:(?:25[0-5]|2[0-4][0-9]|[01]?[0-9][0-9]?)\\.){3}(?:25[0-5]|2[0-4][0-9]|[01]?[0-9][0-9]?)\\b\",n1)\n",
    "rn2 = re.findall(r'(?:.*?\\n)',n1)\n",
    "#print(rn1)\n",
    "#print(rn2)\n",
    "t1=[]\n",
    "for x in range(len(rn2)):\n",
    "    rn2[x]=rn2[x].split()\n",
    "    for y in range(len(rn2[x])):\n",
    "        if rn2[x][y] == 'UG':\n",
    "            if rn2[x][0] == '0.0.0.0':\n",
    "                t1 = rn2[x]\n",
    "\n",
    "print(t1)"
   ],
   "metadata": {
    "collapsed": false,
    "pycharm": {
     "name": "#%%\n"
    }
   }
  },
  {
   "cell_type": "code",
   "execution_count": 107,
   "outputs": [],
   "source": [
    "tt1= \"\"\"\n",
    "<tr >\n",
    "    <td>60</td>\n",
    "    <td><a>leeliao</a></td>\n",
    "    <td><a>leeliao</a></td>\n",
    "    <td>￥56.82 元</td>\n",
    "    <td>￥56.82元</td>\n",
    "    <td>2014-08-11 23:33:54</td>\n",
    "    <td>手动</td>\n",
    "    <td><div class='iconBidState0' /></td>\n",
    "</tr>\n",
    "\n",
    "\n",
    "<tr >\n",
    "    <td>61</td>\n",
    "    <td><a>luo321654</a></td>\n",
    "    <td><a>luo321654</a></td>\n",
    "    <td>￥4,000.00 元</td>\n",
    "    <td>￥4,000.00元</td>\n",
    "    <td>2014-08-11 23:34:32</td>\n",
    "    <td>手动</td>\n",
    "    <td><div class='iconBidState0' /></td>\n",
    "\"\"\"\n",
    "import re\n",
    "r1 = re.compile(r'''<td>(?P<number>\\d+)</td>.*?<td><a>(?P<name>\\w+)</a></td''',re.S)\n",
    "res1 = re.finditer(r1,'content')\n",
    "#print (m.groupdict() for m in result)\n",
    "for m in res1:\n",
    "    print(m.groupdict())\n",
    "\n"
   ],
   "metadata": {
    "collapsed": false,
    "pycharm": {
     "name": "#%%\n"
    }
   }
  },
  {
   "cell_type": "code",
   "execution_count": 17,
   "outputs": [
    {
     "name": "stdout",
     "output_type": "stream",
     "text": [
      "['40', '26', '50']\n"
     ]
    }
   ],
   "source": [
    "import re\n",
    "cc1 = re.findall(r'[01]?[0-9][0-9]?','402650')\n",
    "#re.findall(r\"\\b(?:(?:25[0-5]|2[0-4][0-9]|[01]?[0-9][0-9]?)\\.){3}(?:25[0-5]|2[0-4][0-9]|[01]?[0-9][0-9]?)\\b\",ifconfig_result)\n",
    "print(cc1)"
   ],
   "metadata": {
    "collapsed": false,
    "pycharm": {
     "name": "#%%\n"
    }
   }
  },
  {
   "cell_type": "code",
   "execution_count": 4,
   "outputs": [
    {
     "name": "stdout",
     "output_type": "stream",
     "text": [
      "\\u7f51\\u5173\\u4e3a\\uff1a\n"
     ]
    }
   ],
   "source": [
    "aa = '网关为：'\n",
    "print(aa.encode('unicode-escape').decode())\n"
   ],
   "metadata": {
    "collapsed": false,
    "pycharm": {
     "name": "#%%\n"
    }
   }
  }
 ],
 "metadata": {
  "kernelspec": {
   "display_name": "Python 3",
   "language": "python",
   "name": "python3"
  },
  "language_info": {
   "codemirror_mode": {
    "name": "ipython",
    "version": 2
   },
   "file_extension": ".py",
   "mimetype": "text/x-python",
   "name": "python",
   "nbconvert_exporter": "python",
   "pygments_lexer": "ipython2",
   "version": "2.7.6"
  }
 },
 "nbformat": 4,
 "nbformat_minor": 0
}