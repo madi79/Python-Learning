{
 "cells": [
  {
   "cell_type": "code",
   "execution_count": 2,
   "outputs": [
    {
     "name": "stdout",
     "output_type": "stream",
     "text": [
      "     cisco,python    ,   juniper\n"
     ]
    }
   ],
   "source": [
    "a = '%10s,%-10s,%+10s'\n",
    "print (a % ('cisco','python','juniper'))"
   ],
   "metadata": {
    "collapsed": false,
    "pycharm": {
     "name": "#%%\n"
    }
   }
  },
  {
   "cell_type": "code",
   "execution_count": 27,
   "outputs": [
    {
     "name": "stdout",
     "output_type": "stream",
     "text": [
      "['172.16.66.166']\n",
      "172.16.66.254\n"
     ]
    }
   ],
   "source": [
    "a = ['172.16.66.166', '255.255.255.0', '172.16.66.255']\n",
    "ip_result = []\n",
    "for i in range (0,len(a)-1):\n",
    "    if a[i].split('.')[3] != '0':\n",
    "        if a[i].split('.')[3] !='255':\n",
    "            ip_result.append(a[i])\n",
    "            print(ip_result)\n",
    "tmp_ip= str(ip_result[0]).split('.')\n",
    "tmp_ip[3]='254'\n",
    "ip_gw = ('.'.join(tmp_ip))\n",
    "print(ip_gw)"
   ],
   "metadata": {
    "collapsed": false,
    "pycharm": {
     "name": "#%%\n"
    }
   }
  }
 ],
 "metadata": {
  "kernelspec": {
   "display_name": "Python 3",
   "language": "python",
   "name": "python3"
  },
  "language_info": {
   "codemirror_mode": {
    "name": "ipython",
    "version": 2
   },
   "file_extension": ".py",
   "mimetype": "text/x-python",
   "name": "python",
   "nbconvert_exporter": "python",
   "pygments_lexer": "ipython2",
   "version": "2.7.6"
  }
 },
 "nbformat": 4,
 "nbformat_minor": 0
}